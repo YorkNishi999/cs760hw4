{
 "cells": [
  {
   "cell_type": "code",
   "execution_count": 1,
   "id": "a9d57cc1",
   "metadata": {},
   "outputs": [],
   "source": [
    "%matplotlib inline\n",
    "import numpy as np\n",
    "import matplotlib.pyplot as plt\n",
    "import japanize_matplotlib\n",
    "from IPython.display import display\n",
    "\n",
    "# torch library\n",
    "\n",
    "import torch\n",
    "import torch.nn as nn\n",
    "import torch.optim as optim\n",
    "from torchinfo import summary\n",
    "from torchviz import make_dot"
   ]
  },
  {
   "cell_type": "code",
   "execution_count": 2,
   "id": "9128737f",
   "metadata": {},
   "outputs": [],
   "source": [
    "# Device\n",
    "device = torch.device(\"cuda:0\" if torch.cuda.is_available() else \"cpu\")\n",
    "# print(device)"
   ]
  },
  {
   "cell_type": "code",
   "execution_count": 3,
   "id": "2c71b634",
   "metadata": {},
   "outputs": [],
   "source": [
    "import torchvision.datasets as datasets\n",
    "\n",
    "# data direct\n",
    "data_root = './data'\n",
    "\n",
    "train_set0 = datasets.MNIST(\n",
    "    root = data_root,  \n",
    "    train = True,  \n",
    "    download = True)"
   ]
  },
  {
   "cell_type": "code",
   "execution_count": 4,
   "id": "7e9af176",
   "metadata": {},
   "outputs": [],
   "source": [
    "import torchvision.transforms as transforms\n",
    "\n",
    "# Transforms\n",
    "\n",
    "transform = transforms.Compose([\n",
    "    # (1) to tensor\n",
    "    transforms.ToTensor(),\n",
    "    \n",
    "    # (2) normalize\n",
    "    transforms.Normalize(0.5, 0.5),\n",
    "    \n",
    "    # (3) to 1 tensor\n",
    "    transforms.Lambda(lambda x: x.view(-1)),\n",
    "])"
   ]
  },
  {
   "cell_type": "code",
   "execution_count": 5,
   "id": "b99e7d20",
   "metadata": {},
   "outputs": [],
   "source": [
    "# Dataset\n",
    "\n",
    "# train data\n",
    "train_set = datasets.MNIST(\n",
    "    root = data_root, train = True,\n",
    "    download = True, transform = transform)\n",
    "\n",
    "# test data\n",
    "test_set = datasets.MNIST(\n",
    "    root = data_root, train = False, \n",
    "    download = True, transform = transform)"
   ]
  },
  {
   "cell_type": "code",
   "execution_count": 6,
   "id": "aceeae94",
   "metadata": {},
   "outputs": [],
   "source": [
    "from torch.utils.data import DataLoader\n",
    "\n",
    "# batch size\n",
    "batch_size = 100\n",
    "\n",
    "# train dataloader with shuffle\n",
    "train_loader = DataLoader(\n",
    "    train_set, batch_size = batch_size, \n",
    "    shuffle = True)\n",
    "\n",
    "# test dataloader\n",
    "test_loader = DataLoader(\n",
    "    test_set,  batch_size = batch_size, \n",
    "    shuffle = False)"
   ]
  },
  {
   "cell_type": "code",
   "execution_count": 7,
   "id": "95476db2",
   "metadata": {},
   "outputs": [],
   "source": [
    "for images, labels in train_loader:\n",
    "    break\n",
    "\n",
    "for i in range(20):\n",
    "    # numpy\n",
    "    image = images[i].numpy()\n",
    "    label = labels[i]\n",
    "    "
   ]
  },
  {
   "cell_type": "code",
   "execution_count": 8,
   "id": "9d479f7e",
   "metadata": {},
   "outputs": [
    {
     "name": "stdout",
     "output_type": "stream",
     "text": [
      "n_input: 784  n_hidden: 50 n_output: 10\n"
     ]
    }
   ],
   "source": [
    "# deg of input\n",
    "n_input = image.shape[0]\n",
    "\n",
    "# deg of output\n",
    "# the num of classes\n",
    "n_output = len(set(list(labels.data.numpy())))\n",
    "\n",
    "#   # of hidden node\n",
    "n_hidden = 50\n",
    "\n",
    "# print hyperparameters\n",
    "print(f'n_input: {n_input}  n_hidden: {n_hidden} n_output: {n_output}')"
   ]
  },
  {
   "cell_type": "code",
   "execution_count": 9,
   "id": "d9cddcfe",
   "metadata": {},
   "outputs": [],
   "source": [
    "# model\n",
    "# in: 784 out:10 hidden: 1 layer\n",
    "\n",
    "class Net(nn.Module):\n",
    "    def __init__(self, n_input, n_output, n_hidden):\n",
    "        super().__init__()\n",
    "\n",
    "        # hidden\n",
    "        self.l1 = nn.Linear(n_input, n_hidden)\n",
    "\n",
    "        # Sigmoid\n",
    "        self.sigmoid = nn.Sigmoid()\n",
    "        \n",
    "        # output\n",
    "        self.l2 = nn.Linear(n_hidden, n_output)\n",
    "\n",
    "\n",
    "   \n",
    "    def forward(self, x):\n",
    "        x1 = self.l1(x)\n",
    "        x2 = self.sigmoid(x1)\n",
    "        x3 = self.l2(x2)\n",
    "        return x3"
   ]
  },
  {
   "cell_type": "code",
   "execution_count": 10,
   "id": "f48dd306",
   "metadata": {},
   "outputs": [],
   "source": [
    "# model instance\n",
    "net = Net(n_input, n_output, n_hidden).to(device)\n",
    "\n",
    "# loss function: cross entropy\n",
    "criterion = nn.CrossEntropyLoss()\n",
    "\n",
    "# optimizer\n",
    "optimizer = optim.SGD(net.parameters(), lr=0.1)\n",
    "\n",
    "# epoch\n",
    "num_epochs = 30\n",
    "\n",
    "# record result\n",
    "history = np.zeros((0,5))"
   ]
  },
  {
   "cell_type": "code",
   "execution_count": 11,
   "id": "60d4ea91",
   "metadata": {},
   "outputs": [
    {
     "name": "stdout",
     "output_type": "stream",
     "text": [
      "Epoch [1/30], loss: 0.84968 acc: 0.80643 val_loss: 0.40051, val_acc: 0.89810\n",
      "Epoch [2/30], loss: 0.35993 acc: 0.90218 val_loss: 0.30266, val_acc: 0.91780\n",
      "Epoch [3/30], loss: 0.29641 acc: 0.91617 val_loss: 0.26437, val_acc: 0.92560\n",
      "Epoch [4/30], loss: 0.26182 acc: 0.92510 val_loss: 0.24066, val_acc: 0.93000\n",
      "Epoch [5/30], loss: 0.23804 acc: 0.93183 val_loss: 0.22701, val_acc: 0.93230\n",
      "Epoch [6/30], loss: 0.21902 acc: 0.93700 val_loss: 0.20913, val_acc: 0.93940\n",
      "Epoch [7/30], loss: 0.20376 acc: 0.94155 val_loss: 0.19679, val_acc: 0.94180\n",
      "Epoch [8/30], loss: 0.19046 acc: 0.94528 val_loss: 0.18880, val_acc: 0.94350\n",
      "Epoch [9/30], loss: 0.17892 acc: 0.94933 val_loss: 0.17971, val_acc: 0.94780\n",
      "Epoch [10/30], loss: 0.16986 acc: 0.95110 val_loss: 0.17085, val_acc: 0.94940\n",
      "Epoch [11/30], loss: 0.16092 acc: 0.95412 val_loss: 0.16202, val_acc: 0.95110\n",
      "Epoch [12/30], loss: 0.15382 acc: 0.95612 val_loss: 0.15698, val_acc: 0.95300\n",
      "Epoch [13/30], loss: 0.14735 acc: 0.95882 val_loss: 0.15103, val_acc: 0.95510\n",
      "Epoch [14/30], loss: 0.14113 acc: 0.96008 val_loss: 0.14747, val_acc: 0.95680\n",
      "Epoch [15/30], loss: 0.13583 acc: 0.96203 val_loss: 0.14233, val_acc: 0.95630\n",
      "Epoch [16/30], loss: 0.13054 acc: 0.96380 val_loss: 0.13833, val_acc: 0.96010\n",
      "Epoch [17/30], loss: 0.12643 acc: 0.96432 val_loss: 0.13314, val_acc: 0.95870\n",
      "Epoch [18/30], loss: 0.12215 acc: 0.96583 val_loss: 0.13108, val_acc: 0.96070\n",
      "Epoch [19/30], loss: 0.11812 acc: 0.96698 val_loss: 0.12857, val_acc: 0.96030\n",
      "Epoch [20/30], loss: 0.11430 acc: 0.96800 val_loss: 0.12712, val_acc: 0.96140\n",
      "Epoch [21/30], loss: 0.11101 acc: 0.96922 val_loss: 0.12362, val_acc: 0.96220\n",
      "Epoch [22/30], loss: 0.10761 acc: 0.97055 val_loss: 0.12239, val_acc: 0.96330\n",
      "Epoch [23/30], loss: 0.10459 acc: 0.97192 val_loss: 0.11895, val_acc: 0.96310\n",
      "Epoch [24/30], loss: 0.10220 acc: 0.97205 val_loss: 0.11804, val_acc: 0.96340\n",
      "Epoch [25/30], loss: 0.09972 acc: 0.97232 val_loss: 0.11829, val_acc: 0.96310\n",
      "Epoch [26/30], loss: 0.09719 acc: 0.97360 val_loss: 0.11754, val_acc: 0.96430\n",
      "Epoch [27/30], loss: 0.09475 acc: 0.97408 val_loss: 0.11447, val_acc: 0.96380\n",
      "Epoch [28/30], loss: 0.09253 acc: 0.97485 val_loss: 0.11354, val_acc: 0.96530\n",
      "Epoch [29/30], loss: 0.09003 acc: 0.97553 val_loss: 0.11263, val_acc: 0.96510\n",
      "Epoch [30/30], loss: 0.08832 acc: 0.97617 val_loss: 0.11113, val_acc: 0.96550\n"
     ]
    }
   ],
   "source": [
    "# loop\n",
    "\n",
    "for epoch in range(num_epochs):\n",
    "    train_acc, train_loss = 0, 0\n",
    "    val_acc, val_loss = 0, 0\n",
    "    n_train, n_test = 0, 0\n",
    "\n",
    "    # training\n",
    "    for inputs, labels in train_loader:\n",
    "        n_train += len(labels)\n",
    "\n",
    "        # device\n",
    "        inputs = inputs.to(device)\n",
    "        labels = labels.to(device)\n",
    "    \n",
    "        # init grad\n",
    "        optimizer.zero_grad()\n",
    "\n",
    "        # calc output\n",
    "        outputs = net(inputs)\n",
    "\n",
    "        # calc loss\n",
    "        loss = criterion(outputs, labels)\n",
    "\n",
    "        # grad backward\n",
    "        loss.backward()\n",
    "    \n",
    "        # modify parameters\n",
    "        optimizer.step()\n",
    "\n",
    "        # predict labels\n",
    "        predicted = torch.max(outputs, 1)[1]\n",
    "\n",
    "        # calc loss and accuracy\n",
    "        train_loss += loss.item()\n",
    "        train_acc += (predicted == labels).sum() \n",
    "\n",
    "    # predict\n",
    "    for inputs_test, labels_test in test_loader:\n",
    "        n_test += len(labels_test)\n",
    "\n",
    "        inputs_test = inputs_test.to(device)\n",
    "        labels_test = labels_test.to(device)\n",
    "\n",
    "            \n",
    "        # calc output\n",
    "        outputs_test = net(inputs_test)\n",
    "\n",
    "        # calc loss\n",
    "        loss_test = criterion(outputs_test, labels_test)\n",
    "\n",
    "        # output pred\n",
    "        predicted_test = torch.max(outputs_test, 1)[1]\n",
    "\n",
    "        # calc loss and accu\n",
    "        val_loss +=  loss_test.item()\n",
    "        val_acc +=  (predicted_test == labels_test).sum()\n",
    "\n",
    "    # calc metrics and recode them\n",
    "    train_acc = train_acc / n_train\n",
    "    val_acc = val_acc / n_test\n",
    "    train_loss = train_loss * batch_size / n_train\n",
    "    val_loss = val_loss * batch_size / n_test\n",
    "    print (f'Epoch [{epoch+1}/{num_epochs}], loss: {train_loss:.5f} acc: {train_acc:.5f} val_loss: {val_loss:.5f}, val_acc: {val_acc:.5f}')\n",
    "    item = np.array([epoch+1 , train_loss, train_acc, val_loss, val_acc])\n",
    "    history = np.vstack((history, item))"
   ]
  },
  {
   "cell_type": "code",
   "execution_count": 12,
   "id": "3953aa7a",
   "metadata": {},
   "outputs": [
    {
     "data": {
      "image/png": "[encoded data removed]",
      "text/plain": [
       "<Figure size 648x576 with 1 Axes>"
      ]
     },
     "metadata": {
      "needs_background": "light"
     },
     "output_type": "display_data"
    }
   ],
   "source": [
    "# learning curve\n",
    "plt.rcParams['axes.grid'] = False\n",
    "plt.rcParams['figure.figsize'] = (9,8)\n",
    "plt.rcParams[\"font.size\"] = 18\n",
    "plt.plot(history[:,0], history[:,1], 'b', label='training')\n",
    "plt.xlabel('recursion')\n",
    "plt.ylabel('loss')\n",
    "plt.title('Learning curve (loss)')\n",
    "plt.legend()\n",
    "plt.show()"
   ]
  },
  {
   "cell_type": "code",
   "execution_count": 13,
   "id": "edde3f0d",
   "metadata": {},
   "outputs": [
    {
     "data": {
      "image/png": "[encoded data removed]",
      "text/plain": [
       "<Figure size 648x576 with 1 Axes>"
      ]
     },
     "metadata": {
      "needs_background": "light"
     },
     "output_type": "display_data"
    }
   ],
   "source": [
    "# test error\n",
    "\n",
    "plt.rcParams['axes.grid'] = False\n",
    "plt.rcParams['figure.figsize'] = (9,8)\n",
    "plt.rcParams[\"font.size\"] = 18\n",
    "plt.plot(history[:,0], 1-history[:,4], 'b', label='test')\n",
    "plt.xlabel('recursion')\n",
    "plt.ylabel('Error')\n",
    "plt.title('Test error')\n",
    "plt.legend()\n",
    "plt.show()"
   ]
  },
  {
   "cell_type": "code",
   "execution_count": null,
   "id": "ee5e4745",
   "metadata": {},
   "outputs": [],
   "source": []
  }
 ],
 "metadata": {
  "kernelspec": {
   "display_name": "Python 3 (ipykernel)",
   "language": "python",
   "name": "python3"
  },
  "language_info": {
   "codemirror_mode": {
    "name": "ipython",
    "version": 3
   },
   "file_extension": ".py",
   "mimetype": "text/x-python",
   "name": "python",
   "nbconvert_exporter": "python",
   "pygments_lexer": "ipython3",
   "version": "3.7.10"
  }
 },
 "nbformat": 4,
 "nbformat_minor": 5
}
