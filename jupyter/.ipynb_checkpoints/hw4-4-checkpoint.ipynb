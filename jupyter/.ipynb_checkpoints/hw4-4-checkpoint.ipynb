{
 "cells": [
  {
   "cell_type": "code",
   "execution_count": 1,
   "metadata": {},
   "outputs": [],
   "source": [
    "theta_e = {'a':0, 'b':0, 'c':0, 'd':0, 'e':0,'f':0,'g':0,'h':0,'i':0,'j':0,'k':0,'l':0,'m':0,'n':0,'o':0,'p':0,'q':0,'r':0,'s':0,'t':0,'u':0,'v':0,'w':0,'x':0,'y':0,'z':0,' ':0}\n",
    "\n",
    "# import data\n",
    "train_path = '../languageID/train/'\n",
    "test_path = '../languageID/test/'"
   ]
  },
  {
   "cell_type": "code",
   "execution_count": 2,
   "metadata": {},
   "outputs": [],
   "source": [
    "# scan all train data of English\n",
    "for i in range(9):\n",
    "    f = open(train_path + 'e' + str(i) +'.txt', 'r')\n",
    "    data = f.read()\n",
    "    for ch in data:\n",
    "        if ch in theta_e:\n",
    "            theta_e[ch] += 1\n"
   ]
  },
  {
   "cell_type": "code",
   "execution_count": 3,
   "metadata": {},
   "outputs": [],
   "source": [
    "# count char\n",
    "len_theta_e = 0\n",
    "for c in theta_e:\n",
    "    len_theta_e += theta_e[c]"
   ]
  },
  {
   "cell_type": "code",
   "execution_count": 4,
   "metadata": {},
   "outputs": [],
   "source": [
    "# calc probability by char\n",
    "for c in theta_e:\n",
    "    theta_e[c] /= len_theta_e"
   ]
  },
  {
   "cell_type": "code",
   "execution_count": 5,
   "metadata": {},
   "outputs": [
    {
     "name": "stdout",
     "output_type": "stream",
     "text": [
      "a & 0.06 \\\\\n",
      "b & 0.01 \\\\\n",
      "c & 0.02 \\\\\n",
      "d & 0.02 \\\\\n",
      "e & 0.11 \\\\\n",
      "f & 0.02 \\\\\n",
      "g & 0.02 \\\\\n",
      "h & 0.05 \\\\\n",
      "i & 0.05 \\\\\n",
      "j & 0.0 \\\\\n",
      "k & 0.0 \\\\\n",
      "l & 0.03 \\\\\n",
      "m & 0.02 \\\\\n",
      "n & 0.06 \\\\\n",
      "o & 0.07 \\\\\n",
      "p & 0.02 \\\\\n",
      "q & 0.0 \\\\\n",
      "r & 0.05 \\\\\n",
      "s & 0.07 \\\\\n",
      "t & 0.08 \\\\\n",
      "u & 0.03 \\\\\n",
      "v & 0.01 \\\\\n",
      "w & 0.02 \\\\\n",
      "x & 0.0 \\\\\n",
      "y & 0.01 \\\\\n",
      "z & 0.0 \\\\\n",
      "  & 0.18 \\\\\n"
     ]
    }
   ],
   "source": [
    "# print\n",
    "for v in theta_e:\n",
    "    print(\"{} & {} \\\\\\\\\".format(v, round(theta_e[v], 2)))"
   ]
  },
  {
   "cell_type": "code",
   "execution_count": 6,
   "metadata": {},
   "outputs": [
    {
     "name": "stdout",
     "output_type": "stream",
     "text": [
      "a & 0.13 \\\\\n",
      "b & 0.01 \\\\\n",
      "c & 0.01 \\\\\n",
      "d & 0.02 \\\\\n",
      "e & 0.06 \\\\\n",
      "f & 0.0 \\\\\n",
      "g & 0.01 \\\\\n",
      "h & 0.03 \\\\\n",
      "i & 0.1 \\\\\n",
      "j & 0.0 \\\\\n",
      "k & 0.06 \\\\\n",
      "l & 0.0 \\\\\n",
      "m & 0.04 \\\\\n",
      "n & 0.06 \\\\\n",
      "o & 0.09 \\\\\n",
      "p & 0.0 \\\\\n",
      "q & 0.0 \\\\\n",
      "r & 0.04 \\\\\n",
      "s & 0.04 \\\\\n",
      "t & 0.06 \\\\\n",
      "u & 0.07 \\\\\n",
      "v & 0.0 \\\\\n",
      "w & 0.02 \\\\\n",
      "x & 0.0 \\\\\n",
      "y & 0.01 \\\\\n",
      "z & 0.01 \\\\\n",
      "  & 0.12 \\\\\n"
     ]
    }
   ],
   "source": [
    "theta_j = {'a':0, 'b':0, 'c':0, 'd':0, 'e':0,'f':0,'g':0,'h':0,'i':0,'j':0,'k':0,'l':0,'m':0,'n':0,'o':0,'p':0,'q':0,'r':0,'s':0,'t':0,'u':0,'v':0,'w':0,'x':0,'y':0,'z':0,' ':0}\n",
    "\n",
    "\n",
    "for i in range(9):\n",
    "    f = open(train_path + 'j' + str(i) +'.txt', 'r')\n",
    "    data = f.read()\n",
    "    for ch in data:\n",
    "        if ch in theta_j:\n",
    "            theta_j[ch] += 1\n",
    "            \n",
    "# count char\n",
    "len_theta_j = 0\n",
    "for c in theta_j:\n",
    "    len_theta_j += theta_j[c]\n",
    "\n",
    "# calc probability by char\n",
    "for c in theta_j:\n",
    "    theta_j[c] /= len_theta_j\n",
    "\n",
    "# print\n",
    "for v in theta_j:\n",
    "    print(\"{} & {} \\\\\\\\\".format(v, round(theta_j[v], 2)))"
   ]
  },
  {
   "cell_type": "code",
   "execution_count": 7,
   "metadata": {
    "scrolled": false
   },
   "outputs": [
    {
     "name": "stdout",
     "output_type": "stream",
     "text": [
      "a & 0.1 \\\\\n",
      "b & 0.01 \\\\\n",
      "c & 0.04 \\\\\n",
      "d & 0.04 \\\\\n",
      "e & 0.11 \\\\\n",
      "f & 0.01 \\\\\n",
      "g & 0.01 \\\\\n",
      "h & 0.0 \\\\\n",
      "i & 0.05 \\\\\n",
      "j & 0.01 \\\\\n",
      "k & 0.0 \\\\\n",
      "l & 0.05 \\\\\n",
      "m & 0.03 \\\\\n",
      "n & 0.05 \\\\\n",
      "o & 0.07 \\\\\n",
      "p & 0.02 \\\\\n",
      "q & 0.01 \\\\\n",
      "r & 0.06 \\\\\n",
      "s & 0.07 \\\\\n",
      "t & 0.04 \\\\\n",
      "u & 0.03 \\\\\n",
      "v & 0.01 \\\\\n",
      "w & 0.0 \\\\\n",
      "x & 0.0 \\\\\n",
      "y & 0.01 \\\\\n",
      "z & 0.0 \\\\\n",
      "  & 0.17 \\\\\n"
     ]
    }
   ],
   "source": [
    "theta_s = {'a':0, 'b':0, 'c':0, 'd':0, 'e':0,'f':0,'g':0,'h':0,'i':0,'j':0,'k':0,'l':0,'m':0,'n':0,'o':0,'p':0,'q':0,'r':0,'s':0,'t':0,'u':0,'v':0,'w':0,'x':0,'y':0,'z':0,' ':0}\n",
    "\n",
    "\n",
    "for i in range(9):\n",
    "    f = open(train_path + 's' + str(i) +'.txt', 'r')\n",
    "    data = f.read()\n",
    "    for ch in data:\n",
    "        if ch in theta_s:\n",
    "            theta_s[ch] += 1\n",
    "            \n",
    "# count char\n",
    "len_theta_s = 0\n",
    "for c in theta_s:\n",
    "    len_theta_s += theta_s[c]\n",
    "\n",
    "# calc probability by char\n",
    "for c in theta_s:\n",
    "    theta_s[c] /= len_theta_s\n",
    "\n",
    "# print\n",
    "for v in theta_s:\n",
    "    print(\"{} & {} \\\\\\\\\".format(v, round(theta_s[v], 2)))"
   ]
  },
  {
   "cell_type": "code",
   "execution_count": 8,
   "metadata": {},
   "outputs": [],
   "source": [
    "theta_e_test = {'a':0, 'b':0, 'c':0, 'd':0, 'e':0,'f':0,'g':0,'h':0,'i':0,'j':0,'k':0,'l':0,'m':0,'n':0,'o':0,'p':0,'q':0,'r':0,'s':0,'t':0,'u':0,'v':0,'w':0,'x':0,'y':0,'z':0,' ':0}\n",
    "# scan test data of English\n",
    "i=10\n",
    "f = open(test_path + 'e' + str(i) +'.txt', 'r')\n",
    "data = f.read()\n",
    "for ch in data:\n",
    "    if ch in theta_e_test:\n",
    "        theta_e_test[ch] += 1"
   ]
  },
  {
   "cell_type": "code",
   "execution_count": 9,
   "metadata": {},
   "outputs": [
    {
     "name": "stdout",
     "output_type": "stream",
     "text": [
      "a & 164 \\\\\n",
      "b & 32 \\\\\n",
      "c & 53 \\\\\n",
      "d & 57 \\\\\n",
      "e & 311 \\\\\n",
      "f & 55 \\\\\n",
      "g & 51 \\\\\n",
      "h & 140 \\\\\n",
      "i & 140 \\\\\n",
      "j & 3 \\\\\n",
      "k & 6 \\\\\n",
      "l & 85 \\\\\n",
      "m & 64 \\\\\n",
      "n & 139 \\\\\n",
      "o & 182 \\\\\n",
      "p & 53 \\\\\n",
      "q & 3 \\\\\n",
      "r & 141 \\\\\n",
      "s & 186 \\\\\n",
      "t & 225 \\\\\n",
      "u & 65 \\\\\n",
      "v & 31 \\\\\n",
      "w & 47 \\\\\n",
      "x & 4 \\\\\n",
      "y & 38 \\\\\n",
      "z & 2 \\\\\n",
      "  & 498 \\\\\n"
     ]
    }
   ],
   "source": [
    "for v in theta_e_test:\n",
    "    print(\"{} & {} \\\\\\\\\".format(v, round(theta_e_test[v], 2)))"
   ]
  },
  {
   "cell_type": "code",
   "execution_count": 10,
   "metadata": {},
   "outputs": [],
   "source": [
    "import math\n",
    "\n",
    "log_p_e = log_p_j = log_p_s = 0\n",
    "\n",
    "for ch in theta_e:\n",
    "    log_p_e += theta_e_test[ch] * math.log(theta_e[ch])\n",
    "    \n",
    "for ch in theta_j:\n",
    "    if(theta_j[ch] != 0):\n",
    "        log_p_j += theta_e_test[ch] * math.log(theta_j[ch])\n",
    "    \n",
    "for ch in theta_s:\n",
    "    log_p_s += theta_e_test[ch] * math.log(theta_s[ch])"
   ]
  },
  {
   "cell_type": "code",
   "execution_count": 11,
   "metadata": {},
   "outputs": [
    {
     "name": "stdout",
     "output_type": "stream",
     "text": [
      "$\\log \\hatp(x|y=e) = -7840.772441597222, \\log \\hatp(x|y=j) = -8727.166873035709, and \\log \\hatp(x|y=s) = -8478.203394222628. $\n"
     ]
    }
   ],
   "source": [
    "print(\"$\\log \\hatp(x|y=e) = {}, \\log \\hatp(x|y=j) = {}, and \\log \\hatp(x|y=s) = {}. $\".format(log_p_e, log_p_j, log_p_s))"
   ]
  },
  {
   "cell_type": "code",
   "execution_count": 12,
   "metadata": {},
   "outputs": [],
   "source": [
    "log_p_ye_x = log_p_e + math.log(1/3)\n",
    "log_p_yj_x = log_p_j + math.log(1/3)\n",
    "log_p_ys_x = log_p_s + math.log(1/3)\n"
   ]
  },
  {
   "cell_type": "code",
   "execution_count": 13,
   "metadata": {},
   "outputs": [
    {
     "name": "stdout",
     "output_type": "stream",
     "text": [
      "$\\log \\hatp(y=e|x) = -7841.8710538858895$, $\\log \\hatp(y=j|x) = -8728.265485324377$, and $\\log \\hatp(y=s|x) = -8479.302006511296. $\n"
     ]
    }
   ],
   "source": [
    "print(\"$\\log \\hatp(y=e|x) = {}$, $\\log \\hatp(y=j|x) = {}$, and $\\log \\hatp(y=s|x) = {}. $\".format(log_p_ye_x, log_p_yj_x, log_p_ys_x))"
   ]
  },
  {
   "cell_type": "code",
   "execution_count": 22,
   "metadata": {},
   "outputs": [
    {
     "name": "stdout",
     "output_type": "stream",
     "text": [
      "[-7841.8710538858895, -8728.265485324377, -8479.302006511296]\n",
      "{'Eng': 1, 'Jap': 0, 'Spa': 0}\n",
      "[-9347.145935119166, -10380.2297424344, -10072.341316760492]\n",
      "{'Eng': 2, 'Jap': 0, 'Spa': 0}\n",
      "[-5287.715979141178, -5801.169789495457, -5686.697247262351]\n",
      "{'Eng': 3, 'Jap': 0, 'Spa': 0}\n",
      "[-4742.932500641196, -5159.207361405989, -5186.012806822646]\n",
      "{'Eng': 4, 'Jap': 0, 'Spa': 0}\n",
      "[-4684.156324827551, -5167.138070264629, -5053.116608049425]\n",
      "{'Eng': 5, 'Jap': 0, 'Spa': 0}\n",
      "[-4602.2516681716215, -5034.0081491647215, -4969.716114339039]\n",
      "{'Eng': 6, 'Jap': 0, 'Spa': 0}\n",
      "[-7678.643955485817, -8556.194493789772, -8302.19015471904]\n",
      "{'Eng': 7, 'Jap': 0, 'Spa': 0}\n",
      "[-6881.738086253865, -7587.354213801615, -7365.085438271482]\n",
      "{'Eng': 8, 'Jap': 0, 'Spa': 0}\n",
      "[-4599.941162904103, -5046.505164708888, -4872.50578318763]\n",
      "{'Eng': 9, 'Jap': 0, 'Spa': 0}\n"
     ]
    }
   ],
   "source": [
    "# scan test data of English\n",
    "\n",
    "post_e = {'Eng':0, 'Jap':0, 'Spa':0}\n",
    "\n",
    "    \n",
    "for i in range(10, 19, 1):\n",
    "    theta_e_test = {'a':0, 'b':0, 'c':0, 'd':0, 'e':0,'f':0,'g':0,'h':0,'i':0,'j':0,'k':0,'l':0,'m':0,'n':0,'o':0,'p':0,'q':0,'r':0,'s':0,'t':0,'u':0,'v':0,'w':0,'x':0,'y':0,'z':0,' ':0}\n",
    "    log_p_e = log_p_j = log_p_s = log_p_ye_x = log_p_yj_x = log_p_ys_x = 0\n",
    "    f = open(test_path + 'e' + str(i) +'.txt', 'r')\n",
    "    data = f.read()\n",
    "    for ch in data:\n",
    "        if ch in theta_e_test:\n",
    "            theta_e_test[ch] += 1          \n",
    "\n",
    "    for ch in theta_e:\n",
    "        log_p_e += theta_e_test[ch] * math.log(theta_e[ch])\n",
    "\n",
    "    for ch in theta_j:\n",
    "        if(theta_j[ch] != 0):\n",
    "            log_p_j += theta_e_test[ch] * math.log(theta_j[ch])\n",
    "\n",
    "    for ch in theta_s:\n",
    "        log_p_s += theta_e_test[ch] * math.log(theta_s[ch])\n",
    "    \n",
    "    log_p_ye_x = log_p_e + math.log(1/3)\n",
    "    log_p_yj_x = log_p_j + math.log(1/3)\n",
    "    log_p_ys_x = log_p_s + math.log(1/3)\n",
    "    \n",
    "#     print(([log_p_ye_x, log_p_yj_x, log_p_ys_x]))\n",
    "    ma = max([log_p_ye_x, log_p_yj_x, log_p_ys_x])\n",
    "    if(ma == log_p_ye_x):\n",
    "        post_e['Eng'] += 1\n",
    "    if(ma == log_p_yj_x):\n",
    "        post_e['Jap'] += 1\n",
    "    if(ma == log_p_ys_x):\n",
    "        post_e['Spa'] += 1\n",
    "    print(post_e)\n"
   ]
  },
  {
   "cell_type": "code",
   "execution_count": 15,
   "metadata": {},
   "outputs": [
    {
     "data": {
      "text/plain": [
       "{'a': 1243,\n",
       " 'b': 247,\n",
       " 'c': 433,\n",
       " 'd': 435,\n",
       " 'e': 2102,\n",
       " 'f': 410,\n",
       " 'g': 295,\n",
       " 'h': 916,\n",
       " 'i': 1052,\n",
       " 'j': 9,\n",
       " 'k': 84,\n",
       " 'l': 620,\n",
       " 'm': 456,\n",
       " 'n': 1120,\n",
       " 'o': 1292,\n",
       " 'p': 315,\n",
       " 'q': 15,\n",
       " 'r': 947,\n",
       " 's': 1222,\n",
       " 't': 1696,\n",
       " 'u': 489,\n",
       " 'v': 178,\n",
       " 'w': 309,\n",
       " 'x': 24,\n",
       " 'y': 261,\n",
       " 'z': 9,\n",
       " ' ': 3551}"
      ]
     },
     "execution_count": 15,
     "metadata": {},
     "output_type": "execute_result"
    }
   ],
   "source": [
    "theta_e_test"
   ]
  },
  {
   "cell_type": "code",
   "execution_count": null,
   "metadata": {},
   "outputs": [],
   "source": []
  }
 ],
 "metadata": {
  "kernelspec": {
   "display_name": "Python 3",
   "language": "python",
   "name": "python3"
  },
  "language_info": {
   "codemirror_mode": {
    "name": "ipython",
    "version": 3
   },
   "file_extension": ".py",
   "mimetype": "text/x-python",
   "name": "python",
   "nbconvert_exporter": "python",
   "pygments_lexer": "ipython3",
   "version": "3.7.6"
  }
 },
 "nbformat": 4,
 "nbformat_minor": 4
}
